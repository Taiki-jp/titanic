{
 "cells": [
  {
   "cell_type": "code",
   "execution_count": 26,
   "metadata": {},
   "outputs": [],
   "source": [
    "import pandas as pd\n",
    "from sklearn.tree import DecisionTreeClassifier\n",
    "from sklearn.model_selection import train_test_split\n",
    "import matplotlib.pyplot as plt\n",
    "import numpy as np"
   ]
  },
  {
   "cell_type": "code",
   "execution_count": 30,
   "metadata": {},
   "outputs": [],
   "source": [
    "# データ入力\n",
    "train = pd.read_csv(\"../inputs/train.csv\")\n",
    "test = pd.read_csv(\"../inputs/test.csv\")\n",
    "train = train.dropna(how='any')"
   ]
  },
  {
   "cell_type": "code",
   "execution_count": 31,
   "metadata": {},
   "outputs": [],
   "source": [
    "# stratify は層化という意味で、訓練データと検証データの正解ラベルの比率を揃えてくれる\n",
    "x_train, x_val, y_train, y_val = train_test_split(train[['Age', 'Pclass']], train[\"Survived\"], random_state=0, stratify=train[\"Survived\"])"
   ]
  },
  {
   "cell_type": "code",
   "execution_count": 57,
   "metadata": {},
   "outputs": [
    {
     "data": {
      "image/png": "[encoded data removed]",
      "text/plain": [
       "<Figure size 432x288 with 4 Axes>"
      ]
     },
     "metadata": {
      "needs_background": "light"
     },
     "output_type": "display_data"
    }
   ],
   "source": [
    "# データの説明変数の分布確認\n",
    "AGE_BINS = 10\n",
    "P_CLASS_BINS = 3\n",
    "fig = plt.figure(figsize=(6, 4))\n",
    "# train(above)\n",
    "ax01 = fig.add_subplot(221)\n",
    "ax01.hist(x_train[\"Age\"], bins=AGE_BINS, histtype='barstacked', ec='black')\n",
    "ax01.set_title('Age')\n",
    "ax02 = fig.add_subplot(222)\n",
    "ax02.hist(x_train[\"Pclass\"], bins=P_CLASS_BINS, histtype='barstacked', ec='black')\n",
    "ax02.set_title('Pclass')\n",
    "# validation(below)\n",
    "ax03 = fig.add_subplot(223)\n",
    "ax03.hist(x_val[\"Age\"], bins=AGE_BINS, histtype='barstacked', ec='black')\n",
    "ax04 = fig.add_subplot(224)\n",
    "ax04.hist(x_val[\"Pclass\"], bins=P_CLASS_BINS, histtype='barstacked', ec='black')\n",
    "plt.show()"
   ]
  },
  {
   "cell_type": "code",
   "execution_count": 65,
   "metadata": {},
   "outputs": [
    {
     "data": {
      "image/png": "[encoded data removed]",
      "text/plain": [
       "<Figure size 432x288 with 2 Axes>"
      ]
     },
     "metadata": {
      "needs_background": "light"
     },
     "output_type": "display_data"
    }
   ],
   "source": [
    "# データの目的変数の分布確認\n",
    "SURVIVED_BINS = 2\n",
    "fig = plt.figure(figsize=(6, 4))\n",
    "# train(above)\n",
    "ax01 = fig.add_subplot(121)\n",
    "ax01.hist(y_train, bins=SURVIVED_BINS, histtype='barstacked', ec='black')\n",
    "ax01.set_title('train')\n",
    "ax02 = fig.add_subplot(122)\n",
    "ax02.hist(y_val, bins=SURVIVED_BINS, histtype='barstacked', ec='black')\n",
    "ax02.set_title('validation')\n",
    "plt.show()"
   ]
  },
  {
   "cell_type": "code",
   "execution_count": null,
   "metadata": {},
   "outputs": [],
   "source": []
  }
 ],
 "metadata": {
  "kernelspec": {
   "display_name": "base",
   "language": "python",
   "name": "python3"
  },
  "language_info": {
   "codemirror_mode": {
    "name": "ipython",
    "version": 3
   },
   "file_extension": ".py",
   "mimetype": "text/x-python",
   "name": "python",
   "nbconvert_exporter": "python",
   "pygments_lexer": "ipython3",
   "version": "3.8.10"
  },
  "orig_nbformat": 4,
  "vscode": {
   "interpreter": {
    "hash": "eb5a32ba8812b50a1e2e6c28ff755c2ba2be36928a8ae2b769c82ea9e75cfcbb"
   }
  }
 },
 "nbformat": 4,
 "nbformat_minor": 2
}
